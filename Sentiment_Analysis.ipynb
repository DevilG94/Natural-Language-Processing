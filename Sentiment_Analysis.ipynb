{
 "cells": [
  {
   "cell_type": "markdown",
   "metadata": {
    "id": "_ykQSvHzBPUN"
   },
   "source": [
    "Here, we are going to learn about the following topics:\n",
    "\n",
    "(i) Split and filter text data in preparation for analysis.\n",
    "\n",
    "(ii) Analyze word frequency.\n",
    "\n",
    "(iii) Find concordance and collocations using different methods.\n",
    "\n",
    "(iv) Perform quick sentiment analysis with NLTK’s built-in VADER.\n",
    "\n",
    "(v) Define features for custom classification.\n",
    "\n",
    "(vi) Use and compare classifiers from scikit-learn for sentiment analysis within NLTK."
   ]
  },
  {
   "cell_type": "markdown",
   "metadata": {
    "id": "iCsMtyBtCmCz"
   },
   "source": [
    "Sentiment analysis helps us determine the ratio of positive to negative engagement about a specific topic. We can analyze bodies of text, such as comments, tweets, and product reviews, to obtain insights from our audience."
   ]
  },
  {
   "cell_type": "markdown",
   "metadata": {
    "id": "SKFUhU7xDsPi"
   },
   "source": [
    "First, use !pip to install NLTK."
   ]
  },
  {
   "cell_type": "code",
   "execution_count": 1,
   "metadata": {
    "colab": {
     "base_uri": "https://localhost:8080/"
    },
    "id": "crnYh_xQ6k0K",
    "outputId": "141b2f7d-80c9-4bda-d881-61ac88adae38"
   },
   "outputs": [
    {
     "name": "stdout",
     "output_type": "stream",
     "text": [
      "Requirement already satisfied: nltk in /usr/local/lib/python3.10/dist-packages (3.8.1)\n",
      "Requirement already satisfied: click in /usr/local/lib/python3.10/dist-packages (from nltk) (8.1.7)\n",
      "Requirement already satisfied: joblib in /usr/local/lib/python3.10/dist-packages (from nltk) (1.3.2)\n",
      "Requirement already satisfied: regex>=2021.8.3 in /usr/local/lib/python3.10/dist-packages (from nltk) (2023.6.3)\n",
      "Requirement already satisfied: tqdm in /usr/local/lib/python3.10/dist-packages (from nltk) (4.66.1)\n"
     ]
    }
   ],
   "source": [
    "!pip install nltk"
   ]
  },
  {
   "cell_type": "markdown",
   "metadata": {
    "id": "NkTX_CcHEM7t"
   },
   "source": [
    "After installing the NLTK module, we need to obtain a few additional resources, and we use nltk.download()."
   ]
  },
  {
   "cell_type": "code",
   "execution_count": 3,
   "metadata": {
    "id": "CyajW0Wc7auE"
   },
   "outputs": [],
   "source": [
    "import nltk\n"
   ]
  },
  {
   "cell_type": "code",
   "execution_count": 4,
   "metadata": {
    "colab": {
     "base_uri": "https://localhost:8080/"
    },
    "id": "7sXFMfjm7e2J",
    "outputId": "14d83753-d609-4396-ada1-f0c8ce48171f"
   },
   "outputs": [
    {
     "name": "stderr",
     "output_type": "stream",
     "text": [
      "[nltk_data] Downloading package names to /root/nltk_data...\n",
      "[nltk_data]   Package names is already up-to-date!\n",
      "[nltk_data] Downloading package stopwords to /root/nltk_data...\n",
      "[nltk_data]   Unzipping corpora/stopwords.zip.\n",
      "[nltk_data] Downloading package state_union to /root/nltk_data...\n",
      "[nltk_data]   Unzipping corpora/state_union.zip.\n",
      "[nltk_data] Downloading package twitter_samples to /root/nltk_data...\n",
      "[nltk_data]   Unzipping corpora/twitter_samples.zip.\n",
      "[nltk_data] Downloading package movie_reviews to /root/nltk_data...\n",
      "[nltk_data]   Unzipping corpora/movie_reviews.zip.\n",
      "[nltk_data] Downloading package averaged_perceptron_tagger to\n",
      "[nltk_data]     /root/nltk_data...\n",
      "[nltk_data]   Unzipping taggers/averaged_perceptron_tagger.zip.\n",
      "[nltk_data] Downloading package vader_lexicon to /root/nltk_data...\n",
      "[nltk_data] Downloading package punkt to /root/nltk_data...\n",
      "[nltk_data]   Unzipping tokenizers/punkt.zip.\n"
     ]
    },
    {
     "data": {
      "text/plain": [
       "True"
      ]
     },
     "execution_count": 4,
     "metadata": {},
     "output_type": "execute_result"
    }
   ],
   "source": [
    "nltk.download([\n",
    "...     \"names\",\n",
    "...     \"stopwords\",\n",
    "...     \"state_union\",\n",
    "...     \"twitter_samples\",\n",
    "...     \"movie_reviews\",\n",
    "...     \"averaged_perceptron_tagger\",\n",
    "...     \"vader_lexicon\",\n",
    "...     \"punkt\",\n",
    "... ])"
   ]
  },
  {
   "cell_type": "markdown",
   "metadata": {
    "id": "60LxWdTbE75D"
   },
   "source": [
    "Here, we shall use\n",
    "\n",
    "\n",
    "**names:** A list of common English names compiled by Mark Kantrowitz.\n",
    "\n",
    "**stopwords:** A list of really common words, like articles, pronouns, prepositions, and conjunctions.\n",
    "\n",
    "**state_union:** A sample of transcribed State of the Union addresses by different US presidents, compiled by Kathleen Ahrens.\n",
    "\n",
    "**twitter_samples:** A list of social media phrases posted to Twitter.\n",
    "\n",
    "**movie_reviews:** Two thousand movie reviews categorized by Bo Pang and Lillian Lee.\n",
    "\n",
    "**averaged_perceptron_tagger:** A data model that NLTK uses to categorize words into their parts of speech.\n",
    "\n",
    "**vader_lexicon:** A scored list of words and jargon that NLTK references when performing sentiment analysis, created by C.J. Hutto and Eric Gilbert.\n",
    "\n",
    "**punkt:** A data model created by Jan Strunk that NLTK uses to split full texts into word lists."
   ]
  },
  {
   "cell_type": "markdown",
   "metadata": {
    "id": "x6kTRCo_GFps"
   },
   "source": [
    "The **Shakespeare** corpus contains a set of Shakespeare plays, formatted as XML files."
   ]
  },
  {
   "cell_type": "code",
   "execution_count": 7,
   "metadata": {
    "colab": {
     "base_uri": "https://localhost:8080/"
    },
    "id": "pm0im--n7rhR",
    "outputId": "bbe52620-63aa-4c98-d42e-7759287cdbe0"
   },
   "outputs": [
    {
     "name": "stderr",
     "output_type": "stream",
     "text": [
      "[nltk_data] Downloading package shakespeare to /root/nltk_data...\n",
      "[nltk_data]   Package shakespeare is already up-to-date!\n"
     ]
    }
   ],
   "source": [
    "import nltk\n",
    "w=nltk.download('shakespeare')"
   ]
  },
  {
   "cell_type": "markdown",
   "metadata": {
    "id": "KwbfGsXhGLFs"
   },
   "source": [
    "**Compiling Data:** Let us start by loading the State of the Union corpus we downloaded earlier."
   ]
  },
  {
   "cell_type": "code",
   "execution_count": 8,
   "metadata": {
    "id": "Y3jMmrL676NS"
   },
   "outputs": [],
   "source": [
    "words = [w for w in nltk.corpus.state_union.words() if w.isalpha()]"
   ]
  },
  {
   "cell_type": "markdown",
   "metadata": {
    "id": "BosPQdxeGqug"
   },
   "source": [
    "NLTK provides a small corpus of stop words that we can load into a list."
   ]
  },
  {
   "cell_type": "code",
   "execution_count": 9,
   "metadata": {
    "id": "bV18_om18BYr"
   },
   "outputs": [],
   "source": [
    "stopwords = nltk.corpus.stopwords.words(\"english\")"
   ]
  },
  {
   "cell_type": "markdown",
   "metadata": {
    "id": "nSFCjH7XGxtq"
   },
   "source": [
    "Now we can remove stop words from our original word list."
   ]
  },
  {
   "cell_type": "code",
   "execution_count": 10,
   "metadata": {
    "id": "bherfT2n8Goo"
   },
   "outputs": [],
   "source": [
    "words = [w for w in words if w.lower() not in stopwords]"
   ]
  },
  {
   "cell_type": "markdown",
   "metadata": {
    "id": "qpWoU5HYHGl9"
   },
   "source": [
    "To use it, call word_tokenize() with the raw text we want to split."
   ]
  },
  {
   "cell_type": "code",
   "execution_count": 11,
   "metadata": {
    "colab": {
     "base_uri": "https://localhost:8080/"
    },
    "id": "XEJT6yoz8Oyn",
    "outputId": "87d681b5-749f-4262-c18c-d21eee3f2abd"
   },
   "outputs": [
    {
     "name": "stdout",
     "output_type": "stream",
     "text": [
      "['...', 'For', 'some', 'quick', 'analysis', ',', 'creating', 'a', 'corpus',\n",
      " 'could', 'be', 'overkill', '.', '...', 'If', 'all', 'you', 'need', 'is', 'a',\n",
      " 'word', 'list', ',', '...', 'there', 'are', 'simpler', 'ways', 'to',\n",
      " 'achieve', 'that', 'goal', '.']\n"
     ]
    },
    {
     "data": {
      "text/plain": [
       "['For',\n",
       " 'some',\n",
       " 'quick',\n",
       " 'analysis',\n",
       " ',',\n",
       " 'creating',\n",
       " 'a',\n",
       " 'corpus',\n",
       " 'could',\n",
       " 'be',\n",
       " 'overkill',\n",
       " '.',\n",
       " 'If',\n",
       " 'all',\n",
       " 'you',\n",
       " 'need',\n",
       " 'is',\n",
       " 'a',\n",
       " 'word',\n",
       " 'list',\n",
       " ',',\n",
       " 'there',\n",
       " 'are',\n",
       " 'simpler',\n",
       " 'ways',\n",
       " 'to',\n",
       " 'achieve',\n",
       " 'that',\n",
       " 'goal',\n",
       " '.']"
      ]
     },
     "execution_count": 11,
     "metadata": {},
     "output_type": "execute_result"
    }
   ],
   "source": [
    "from pprint import pprint\n",
    "\n",
    "text = \"\"\"\n",
    "... For some quick analysis, creating a corpus could be overkill.\n",
    "... If all you need is a word list,\n",
    "... there are simpler ways to achieve that goal.\"\"\"\n",
    "pprint(nltk.word_tokenize(text), width=79, compact=True)\n",
    "['For', 'some', 'quick', 'analysis', ',', 'creating', 'a', 'corpus', 'could',\n",
    " 'be', 'overkill', '.', 'If', 'all', 'you', 'need', 'is', 'a', 'word', 'list',\n",
    " ',', 'there', 'are', 'simpler', 'ways', 'to', 'achieve', 'that', 'goal', '.']"
   ]
  },
  {
   "cell_type": "markdown",
   "metadata": {
    "id": "CrefTmMJHWIf"
   },
   "source": [
    "**Creating Frequency Distributions:** To build a frequency distribution with NLTK, construct the nltk.FreqDist class with a word list."
   ]
  },
  {
   "cell_type": "code",
   "execution_count": 12,
   "metadata": {
    "id": "mYRnb-Uk8VyB"
   },
   "outputs": [],
   "source": [
    "words: list[str] = nltk.word_tokenize(text)\n",
    "fd = nltk.FreqDist(words)"
   ]
  },
  {
   "cell_type": "markdown",
   "metadata": {
    "id": "og5gyDGlHwZz"
   },
   "source": [
    "After building the object, we can use methods like .most_common() and .tabulate() to start visualizing information."
   ]
  },
  {
   "cell_type": "code",
   "execution_count": 13,
   "metadata": {
    "colab": {
     "base_uri": "https://localhost:8080/"
    },
    "id": "Ox0EKN4Q8a7h",
    "outputId": "07a3f3ec-b503-4c11-d0f8-c5ae1d125bd1"
   },
   "outputs": [
    {
     "data": {
      "text/plain": [
       "[('...', 3), (',', 2), ('a', 2)]"
      ]
     },
     "execution_count": 13,
     "metadata": {},
     "output_type": "execute_result"
    }
   ],
   "source": [
    "fd.most_common(3)"
   ]
  },
  {
   "cell_type": "code",
   "execution_count": 14,
   "metadata": {
    "colab": {
     "base_uri": "https://localhost:8080/"
    },
    "id": "NzlWl_Rr8e7h",
    "outputId": "42bd10dd-5525-4ac1-9a6e-7e290b68705e"
   },
   "outputs": [
    {
     "name": "stdout",
     "output_type": "stream",
     "text": [
      "...   ,   a \n",
      "  3   2   2 \n"
     ]
    }
   ],
   "source": [
    "fd.tabulate(3)"
   ]
  },
  {
   "cell_type": "markdown",
   "metadata": {
    "id": "Vuddz24fINQ3"
   },
   "source": [
    "These methods allow us to quickly determine frequently used words in a sample. With .most_common(), we get a list of tuples containing each word and how many times it appears in our text. We can get the same information in a more readable format with .tabulate()."
   ]
  },
  {
   "cell_type": "markdown",
   "metadata": {
    "id": "XOD0M_xsIlkS"
   },
   "source": [
    "In addition to these two methods, we can use frequency distributions to query particular words. These return values indicate the number of times each word occurs exactly as given."
   ]
  },
  {
   "cell_type": "code",
   "execution_count": 15,
   "metadata": {
    "colab": {
     "base_uri": "https://localhost:8080/"
    },
    "id": "EwiCO2Hi8gv5",
    "outputId": "35b06d25-c406-4aee-b45e-11092d270a5a"
   },
   "outputs": [
    {
     "data": {
      "text/plain": [
       "0"
      ]
     },
     "execution_count": 15,
     "metadata": {},
     "output_type": "execute_result"
    }
   ],
   "source": [
    "fd[\"America\"]"
   ]
  },
  {
   "cell_type": "code",
   "execution_count": 16,
   "metadata": {
    "colab": {
     "base_uri": "https://localhost:8080/"
    },
    "id": "KcYSPCGw8qeJ",
    "outputId": "646ddec3-6986-40af-e5a6-dda753f955a5"
   },
   "outputs": [
    {
     "data": {
      "text/plain": [
       "0"
      ]
     },
     "execution_count": 16,
     "metadata": {},
     "output_type": "execute_result"
    }
   ],
   "source": [
    "fd[\"america\"]"
   ]
  },
  {
   "cell_type": "code",
   "execution_count": 17,
   "metadata": {
    "colab": {
     "base_uri": "https://localhost:8080/"
    },
    "id": "V82pCS4l8vqh",
    "outputId": "93d2b562-0006-4399-dc46-6cb0086f7a93"
   },
   "outputs": [
    {
     "data": {
      "text/plain": [
       "0"
      ]
     },
     "execution_count": 17,
     "metadata": {},
     "output_type": "execute_result"
    }
   ],
   "source": [
    "fd[\"AMERICA\"]"
   ]
  },
  {
   "cell_type": "markdown",
   "metadata": {
    "id": "B3EsODv_IwhV"
   },
   "source": [
    "Let us create a new frequency distribution that is based on the initial one but normalizes all words to lowercase."
   ]
  },
  {
   "cell_type": "code",
   "execution_count": 18,
   "metadata": {
    "id": "DEyBl6iZ84YR"
   },
   "outputs": [],
   "source": [
    "lower_fd = nltk.FreqDist([w.lower() for w in fd])"
   ]
  },
  {
   "cell_type": "markdown",
   "metadata": {
    "id": "VsLHS67cJRIA"
   },
   "source": [
    "**Extracting Concordance and Collocations:**"
   ]
  },
  {
   "cell_type": "markdown",
   "metadata": {
    "id": "gqes8grEOZHT"
   },
   "source": [
    "Before invoking .concordance(), build a new word list from the original corpus text so that all the context, even stop words, will be there."
   ]
  },
  {
   "cell_type": "code",
   "execution_count": 19,
   "metadata": {
    "colab": {
     "base_uri": "https://localhost:8080/"
    },
    "id": "CPYI1ko989mJ",
    "outputId": "84257ea9-7c21-42ef-9d2b-4ad8b938316a"
   },
   "outputs": [
    {
     "name": "stdout",
     "output_type": "stream",
     "text": [
      "Displaying 5 of 1079 matches:\n",
      " would want us to do . That is what America will do . So much blood has already\n",
      "ay , the entire world is looking to America for enlightened leadership to peace\n",
      "beyond any shadow of a doubt , that America will continue the fight for freedom\n",
      " to make complete victory certain , America will never become a party to any pl\n",
      "nly in law and in justice . Here in America , we have labored long and hard to \n"
     ]
    }
   ],
   "source": [
    "text = nltk.Text(nltk.corpus.state_union.words())\n",
    "text.concordance(\"america\", lines=5)"
   ]
  },
  {
   "cell_type": "markdown",
   "metadata": {
    "id": "QeNr_UTGPH4i"
   },
   "source": [
    "Remember that .concordance() already ignores the case, allowing us to see the context of all case variants of a word in order of appearance. Note also that this function doesn’t show you the location of each word in the text.\n",
    "\n",
    "Moreover, since .concordance() only prints information to the console, it’s not ideal for data manipulation. To obtain a usable list that will also give us information about the location of each occurrence, use .concordance_list().\n",
    "\n",
    "\n"
   ]
  },
  {
   "cell_type": "code",
   "execution_count": 20,
   "metadata": {
    "colab": {
     "base_uri": "https://localhost:8080/"
    },
    "id": "D8uHFQ_L9A4h",
    "outputId": "5e8edc1e-8eb6-4cee-b81b-694179ba0938"
   },
   "outputs": [
    {
     "name": "stdout",
     "output_type": "stream",
     "text": [
      " would want us to do . That is what America will do . So much blood has already\n",
      "ay , the entire world is looking to America for enlightened leadership to peace\n"
     ]
    }
   ],
   "source": [
    "concordance_list = text.concordance_list(\"america\", lines=2)\n",
    "for entry in concordance_list:\n",
    "   print(entry.line)"
   ]
  },
  {
   "cell_type": "markdown",
   "metadata": {
    "id": "Bg3DgXYKPwFT"
   },
   "source": [
    ".concordance_list() gives us a list of ConcordanceLine objects, which contain information about where each word occurs as well as a few more properties worth exploring. The list is also sorted in order of appearance.\n",
    "\n",
    "The nltk.Text class itself has a few other interesting features. One of them is .vocab(), which is worth mentioning because it creates a frequency distribution for a given text.\n",
    "\n",
    "Revisiting nltk.word_tokenize(), check out how quickly we can create a custom nltk. Text instance and an accompanying frequency distribution."
   ]
  },
  {
   "cell_type": "code",
   "execution_count": 21,
   "metadata": {
    "id": "gxF4GPxq9I_o"
   },
   "outputs": [],
   "source": [
    "words: list[str] = nltk.word_tokenize(\n",
    "...     \"\"\"Beautiful is better than ugly.\n",
    "...     Explicit is better than implicit.\n",
    "...     Simple is better than complex.\"\"\"\n",
    "... )"
   ]
  },
  {
   "cell_type": "code",
   "execution_count": 22,
   "metadata": {
    "id": "3LpOi1Aq9N_o"
   },
   "outputs": [],
   "source": [
    "text = nltk.Text(words)"
   ]
  },
  {
   "cell_type": "code",
   "execution_count": 23,
   "metadata": {
    "id": "x6H3scXR9RuJ"
   },
   "outputs": [],
   "source": [
    "fd = text.vocab()"
   ]
  },
  {
   "cell_type": "code",
   "execution_count": 24,
   "metadata": {
    "colab": {
     "base_uri": "https://localhost:8080/"
    },
    "id": "euDL79Io9YfA",
    "outputId": "aad4d28b-f4a2-48b4-e0d2-9c78dec7e21a"
   },
   "outputs": [
    {
     "name": "stdout",
     "output_type": "stream",
     "text": [
      "    is better   than \n",
      "     3      3      3 \n"
     ]
    }
   ],
   "source": [
    "fd.tabulate(3)"
   ]
  },
  {
   "cell_type": "markdown",
   "metadata": {
    "id": "wyB1mFETQfzb"
   },
   "source": [
    "NLTK provides specific classes for us to find collocations in our text. Following the pattern we have seen so far, these classes are also built from lists of words."
   ]
  },
  {
   "cell_type": "code",
   "execution_count": 25,
   "metadata": {
    "id": "96CR5v-09aF4"
   },
   "outputs": [],
   "source": [
    "words = [w for w in nltk.corpus.state_union.words() if w.isalpha()]\n",
    "finder = nltk.collocations.TrigramCollocationFinder.from_words(words)"
   ]
  },
  {
   "cell_type": "markdown",
   "metadata": {
    "id": "6WQvS8RxQrls"
   },
   "source": [
    "The TrigramCollocationFinder instance will search specifically for trigrams."
   ]
  },
  {
   "cell_type": "markdown",
   "metadata": {
    "id": "_fB6yo3FQzPE"
   },
   "source": [
    "One of their most useful tools is the ngram_fd property. This property holds a frequency distribution that is built for each collocation rather than for individual words.\n",
    "\n",
    "Using ngram_fd, we can find the most common collocations in the supplied text."
   ]
  },
  {
   "cell_type": "code",
   "execution_count": 26,
   "metadata": {
    "colab": {
     "base_uri": "https://localhost:8080/"
    },
    "id": "9hfgsyOb9l9B",
    "outputId": "1f1db408-e1a1-495e-97ef-db390e3b6a5a"
   },
   "outputs": [
    {
     "data": {
      "text/plain": [
       "[(('the', 'United', 'States'), 294), (('the', 'American', 'people'), 185)]"
      ]
     },
     "execution_count": 26,
     "metadata": {},
     "output_type": "execute_result"
    }
   ],
   "source": [
    "finder.ngram_fd.most_common(2)"
   ]
  },
  {
   "cell_type": "code",
   "execution_count": 27,
   "metadata": {
    "colab": {
     "base_uri": "https://localhost:8080/"
    },
    "id": "0t9SVymY9rex",
    "outputId": "48f8f0c6-0901-4f74-9535-54291c95e22a"
   },
   "outputs": [
    {
     "name": "stdout",
     "output_type": "stream",
     "text": [
      "  ('the', 'United', 'States') ('the', 'American', 'people') \n",
      "                          294                           185 \n"
     ]
    }
   ],
   "source": [
    "finder.ngram_fd.tabulate(2)"
   ]
  },
  {
   "cell_type": "markdown",
   "metadata": {
    "id": "iC6vjgkWRBQr"
   },
   "source": [
    "**Using NLTK’s Pre-Trained Sentiment Analyzer:** NLTK already has a built-in, pretrained sentiment analyzer called **VADER** (Valence Aware Dictionary and sEntiment Reasoner). To use VADER, first create an instance of nltk.sentiment. SentimentIntensityAnalyzer, then use .polarity_scores() on a raw string.\n",
    "\n"
   ]
  },
  {
   "cell_type": "code",
   "execution_count": 28,
   "metadata": {
    "id": "JPDIu5yM9tiZ"
   },
   "outputs": [],
   "source": [
    "from nltk.sentiment import SentimentIntensityAnalyzer\n",
    "sia = SentimentIntensityAnalyzer()"
   ]
  },
  {
   "cell_type": "code",
   "execution_count": 29,
   "metadata": {
    "colab": {
     "base_uri": "https://localhost:8080/"
    },
    "id": "pSeSwBfw92e5",
    "outputId": "81bf39e0-b008-4ed6-9913-de8cfde9aa37"
   },
   "outputs": [
    {
     "data": {
      "text/plain": [
       "{'neg': 0.0, 'neu': 0.295, 'pos': 0.705, 'compound': 0.8012}"
      ]
     },
     "execution_count": 29,
     "metadata": {},
     "output_type": "execute_result"
    }
   ],
   "source": [
    "sia.polarity_scores(\"Wow, NLTK is really powerful!\")"
   ]
  },
  {
   "cell_type": "markdown",
   "metadata": {
    "id": "4-y3yHtRR6cH"
   },
   "source": [
    "We shall get back a dictionary of different scores. The negative, neutral, and positive scores are related: They all add up to 1 and cannot be negative. The compound score is calculated differently. It is not just an average, and it can range from -1 to 1.\n",
    "\n",
    "Now we shall put it to the test against real data using two different corpora. First, load the twitter_samples corpus into a list of strings, making a replacement to render URLs inactive to avoid accidental clicks."
   ]
  },
  {
   "cell_type": "code",
   "execution_count": 30,
   "metadata": {
    "id": "FOarPPcF96jx"
   },
   "outputs": [],
   "source": [
    "tweets = [t.replace(\"://\", \"//\") for t in nltk.corpus.twitter_samples.strings()]"
   ]
  },
  {
   "cell_type": "markdown",
   "metadata": {
    "id": "uS1AerEWSck6"
   },
   "source": [
    "Now use the .polarity_scores() function of our SentimentIntensityAnalyzer instance to classify tweets."
   ]
  },
  {
   "cell_type": "code",
   "execution_count": 31,
   "metadata": {
    "colab": {
     "base_uri": "https://localhost:8080/"
    },
    "id": "QPhHo-Op99oi",
    "outputId": "1fbd1088-297d-4555-a4a5-c94c914ebc2f"
   },
   "outputs": [
    {
     "name": "stdout",
     "output_type": "stream",
     "text": [
      "> True @GFuelEnergy i want that but i dont have paypal :(\n",
      "> False Nicola Sturgeon eats English babies for breakfast\n",
      "> True @candinam Gals also bend down in one knees to put a men down and bend down in two knees to pleasure a men up to the heaven :)\n",
      "> False RT @matt_isom: @DavidGWrigley @BBCNews @bbcnickrobinson @Ed_Miliband he slipped on David Cameron's sweat\n",
      "> True RT @HTScotPol: Good grief. Ed Miliband hands SNP massive gift on #bbcqt by saying he'd rather Tories ran country than do a deal with #SNP\n",
      "> False RT @Ed_Miliband: Working families can't afford five more years of the Tories, but in seven days time people can vote Labour to put working …\n",
      "> True RT @OwenJones84: Woohoo! Ed Miliband pointing out that social security bill being fuelled by subsidies for low wages! The facts banished fr…\n",
      "> True @nathan3205 OMG THAT CAME FAST! You graduate at the end of the year?! I know :( catch ups are a definite (what we did best at uni anyways)\n",
      "> False RT @bigbuachaille: Miliband fallout:\n",
      "\n",
      "Westminster election, now officially an English election.\n",
      "> True Go for it, @Nigel_Farage. 👏👏 Awesome and honest. People need to remember why this debate is on tonight in the first place... #bbcqt #UKIP 🇬🇧\n"
     ]
    }
   ],
   "source": [
    "from random import shuffle\n",
    "\n",
    "def is_positive(tweet: str) -> bool:\n",
    "    \"\"\"True if tweet has positive compound sentiment, False otherwise.\"\"\"\n",
    "    return sia.polarity_scores(tweet)[\"compound\"] > 0\n",
    "\n",
    "shuffle(tweets)\n",
    "for tweet in tweets[:10]:\n",
    "    print(\">\", is_positive(tweet), tweet)"
   ]
  },
  {
   "cell_type": "markdown",
   "metadata": {
    "id": "VPecr-3mSo0_"
   },
   "source": [
    "Since VADER needs raw strings for its rating, we cannot use .words() like we did earlier. Instead, make a list of the file IDs that the corpus uses, which we can use later to reference individual reviews."
   ]
  },
  {
   "cell_type": "code",
   "execution_count": 32,
   "metadata": {
    "id": "rEZiOocq-CVh"
   },
   "outputs": [],
   "source": [
    "positive_review_ids = nltk.corpus.movie_reviews.fileids(categories=[\"pos\"])\n",
    "negative_review_ids = nltk.corpus.movie_reviews.fileids(categories=[\"neg\"])\n",
    "all_review_ids = positive_review_ids + negative_review_ids"
   ]
  },
  {
   "cell_type": "markdown",
   "metadata": {
    "id": "Su_9jTYxS5RM"
   },
   "source": [
    "Next, redefine is_positive() to work on an entire review. We shall need to obtain that specific review using its file ID and then split it into sentences before rating."
   ]
  },
  {
   "cell_type": "code",
   "execution_count": 33,
   "metadata": {
    "id": "KftQiqgH-Ivh"
   },
   "outputs": [],
   "source": [
    "from statistics import mean\n",
    "\n",
    "def is_positive(review_id: str) -> bool:\n",
    "    \"\"\"True if the average of all sentence compound scores is positive.\"\"\"\n",
    "    text = nltk.corpus.movie_reviews.raw(review_id)\n",
    "    scores = [\n",
    "        sia.polarity_scores(sentence)[\"compound\"]\n",
    "        for sentence in nltk.sent_tokenize(text)\n",
    "    ]\n",
    "    return mean(scores) > 0"
   ]
  },
  {
   "cell_type": "markdown",
   "metadata": {
    "id": "YVs0Y3UxTKyP"
   },
   "source": [
    ".raw() is another method that exists in most corpora. By specifying a file ID or a list of file IDs, we can obtain specific data from the corpus. Here, we get a single review, then use nltk.sent_tokenize() to obtain a list of sentences from the review. Finally, is_positive() calculates the average compound score for all sentences and associates a positive result with a positive review.\n",
    "\n",
    "We can take the opportunity to rate all the reviews and see how accurate VADER is with this setup."
   ]
  },
  {
   "cell_type": "code",
   "execution_count": 35,
   "metadata": {
    "colab": {
     "base_uri": "https://localhost:8080/"
    },
    "id": "CDvZiD6V-Nsx",
    "outputId": "97afa97e-ab9e-4092-e96f-797505055043"
   },
   "outputs": [
    {
     "name": "stdout",
     "output_type": "stream",
     "text": [
      "64.00% correct\n"
     ]
    }
   ],
   "source": [
    "shuffle(all_review_ids)\n",
    "correct = 0\n",
    "for review_id in all_review_ids:\n",
    "     if is_positive(review_id):\n",
    "         if review_id in positive_review_ids:\n",
    "             correct += 1\n",
    "     else:\n",
    "       if review_id in negative_review_ids:\n",
    "             correct += 1\n",
    "\n",
    "print(F\"{correct / len(all_review_ids):.2%} correct\")"
   ]
  },
  {
   "cell_type": "markdown",
   "metadata": {
    "id": "FT-WpJb7ThCl"
   },
   "source": [
    "**Customizing NLTK’s Sentiment Analysis:**"
   ]
  },
  {
   "cell_type": "markdown",
   "metadata": {
    "id": "z1w9fSnZTtJ7"
   },
   "source": [
    "(a) Selecting Useful Features\n",
    "\n",
    "\n",
    "\n",
    "By using the predefined categories in the movie_reviews corpus, we can create sets of positive and negative words, then determine which ones occur most frequently across each set. Begin by excluding unwanted words and building the initial category groups."
   ]
  },
  {
   "cell_type": "code",
   "execution_count": 36,
   "metadata": {
    "id": "DkvXTX7S-kKR"
   },
   "outputs": [],
   "source": [
    "unwanted = nltk.corpus.stopwords.words(\"english\")\n",
    "unwanted.extend([w.lower() for w in nltk.corpus.names.words()])\n",
    "\n",
    "def skip_unwanted(pos_tuple):\n",
    "    word, tag = pos_tuple\n",
    "    if not word.isalpha() or word in unwanted:\n",
    "        return False\n",
    "    if tag.startswith(\"NN\"):\n",
    "        return False\n",
    "    return True\n",
    "\n",
    "positive_words = [word for word, tag in filter(\n",
    "    skip_unwanted,\n",
    "    nltk.pos_tag(nltk.corpus.movie_reviews.words(categories=[\"pos\"]))\n",
    ")]\n",
    "negative_words = [word for word, tag in filter(\n",
    "    skip_unwanted,\n",
    "    nltk.pos_tag(nltk.corpus.movie_reviews.words(categories=[\"neg\"]))\n",
    ")]"
   ]
  },
  {
   "cell_type": "markdown",
   "metadata": {
    "id": "8w8ddypuT_45"
   },
   "source": [
    "It is important to call pos_tag() before filtering our word lists so that NLTK can more accurately tag all words. skip_unwanted(), then uses those tags to exclude nouns, according to NLTK’s default tag set.\n",
    "\n",
    "Now we are ready to create the frequency distributions for our custom feature. Since many words are present in both positive and negative sets, begin by finding the common set so we can remove it from the distribution objects."
   ]
  },
  {
   "cell_type": "code",
   "execution_count": 37,
   "metadata": {
    "id": "9S8QWYYg_ICa"
   },
   "outputs": [],
   "source": [
    "positive_fd = nltk.FreqDist(positive_words)\n",
    "negative_fd = nltk.FreqDist(negative_words)\n",
    "\n",
    "common_set = set(positive_fd).intersection(negative_fd)\n",
    "\n",
    "for word in common_set:\n",
    "    del positive_fd[word]\n",
    "    del negative_fd[word]\n",
    "\n",
    "top_100_positive = {word for word, count in positive_fd.most_common(100)}\n",
    "top_100_negative = {word for word, count in negative_fd.most_common(100)}"
   ]
  },
  {
   "cell_type": "markdown",
   "metadata": {
    "id": "taA7GvXcUoQ5"
   },
   "source": [
    "Here is how we can set up the positive and negative bigram finders."
   ]
  },
  {
   "cell_type": "code",
   "execution_count": 38,
   "metadata": {
    "id": "91a4soYs_P1q"
   },
   "outputs": [],
   "source": [
    "unwanted = nltk.corpus.stopwords.words(\"english\")\n",
    "unwanted.extend([w.lower() for w in nltk.corpus.names.words()])\n",
    "\n",
    "positive_bigram_finder = nltk.collocations.BigramCollocationFinder.from_words([\n",
    "    w for w in nltk.corpus.movie_reviews.words(categories=[\"pos\"])\n",
    "    if w.isalpha() and w not in unwanted\n",
    "])\n",
    "negative_bigram_finder = nltk.collocations.BigramCollocationFinder.from_words([\n",
    "    w for w in nltk.corpus.movie_reviews.words(categories=[\"neg\"])\n",
    "    if w.isalpha() and w not in unwanted\n",
    "])"
   ]
  },
  {
   "cell_type": "markdown",
   "metadata": {
    "id": "I0crY3x7Uz03"
   },
   "source": [
    "(b) Training and Using a Classifier\n",
    "\n",
    " Since we are looking for positive movie reviews, focus on the features that indicate positivity, including VADER scores."
   ]
  },
  {
   "cell_type": "code",
   "execution_count": 39,
   "metadata": {
    "id": "JR9L1ASl_fgy"
   },
   "outputs": [],
   "source": [
    "def extract_features(text):\n",
    "    features = dict()\n",
    "    wordcount = 0\n",
    "    compound_scores = list()\n",
    "    positive_scores = list()\n",
    "\n",
    "    for sentence in nltk.sent_tokenize(text):\n",
    "        for word in nltk.word_tokenize(sentence):\n",
    "            if word.lower() in top_100_positive:\n",
    "                wordcount += 1\n",
    "        compound_scores.append(sia.polarity_scores(sentence)[\"compound\"])\n",
    "        positive_scores.append(sia.polarity_scores(sentence)[\"pos\"])\n",
    "\n",
    "    # Adding 1 to the final compound score to always have positive numbers\n",
    "    # since some classifiers you'll use later don't work with negative numbers.\n",
    "    features[\"mean_compound\"] = mean(compound_scores) + 1\n",
    "    features[\"mean_positive\"] = mean(positive_scores)\n",
    "    features[\"wordcount\"] = wordcount\n",
    "\n",
    "    return features"
   ]
  },
  {
   "cell_type": "markdown",
   "metadata": {
    "id": "e6KKuljlVNL8"
   },
   "source": [
    "extract_features() should return a dictionary, and it will create three features for each piece of text:\n",
    "\n",
    "1. The average compound score\n",
    "\n",
    "2. The average positive score\n",
    "\n",
    "3. The amount of words in the text that are also part of the top 100 words in all positive reviews\n",
    "\n",
    "In order to train and evaluate a classifier, we shall need to build a list of features for each text we shall analyze."
   ]
  },
  {
   "cell_type": "code",
   "execution_count": 40,
   "metadata": {
    "id": "kJIe2s42_hzi"
   },
   "outputs": [],
   "source": [
    "features = [\n",
    "    (extract_features(nltk.corpus.movie_reviews.raw(review)), \"pos\")\n",
    "    for review in nltk.corpus.movie_reviews.fileids(categories=[\"pos\"])\n",
    "]\n",
    "features.extend([\n",
    "    (extract_features(nltk.corpus.movie_reviews.raw(review)), \"neg\")\n",
    "    for review in nltk.corpus.movie_reviews.fileids(categories=[\"neg\"])\n",
    "])"
   ]
  },
  {
   "cell_type": "markdown",
   "metadata": {
    "id": "YBkRm-6-VpQ2"
   },
   "source": [
    "Training the classifier involves splitting the feature set so that one portion can be used for training and the other for evaluation, then calling .train()."
   ]
  },
  {
   "cell_type": "code",
   "execution_count": 41,
   "metadata": {
    "colab": {
     "base_uri": "https://localhost:8080/"
    },
    "id": "lBubPh3Z_pDa",
    "outputId": "e56d3d9a-281e-42c8-c550-56d54a2759e0"
   },
   "outputs": [
    {
     "name": "stdout",
     "output_type": "stream",
     "text": [
      "Most Informative Features\n",
      "               wordcount = 3                 pos : neg    =      4.5 : 1.0\n",
      "               wordcount = 2                 pos : neg    =      3.8 : 1.0\n",
      "               wordcount = 5                 pos : neg    =      3.2 : 1.0\n",
      "               wordcount = 1                 pos : neg    =      2.0 : 1.0\n",
      "               wordcount = 0                 neg : pos    =      1.8 : 1.0\n",
      "               wordcount = 4                 pos : neg    =      1.1 : 1.0\n",
      "           mean_positive = 0.159             pos : neg    =      1.0 : 1.0\n"
     ]
    }
   ],
   "source": [
    "# Use 1/4 of the set for training\n",
    "train_count = len(features) // 4\n",
    "shuffle(features)\n",
    "classifier = nltk.NaiveBayesClassifier.train(features[:train_count])\n",
    "classifier.show_most_informative_features(10)"
   ]
  },
  {
   "cell_type": "code",
   "execution_count": 42,
   "metadata": {
    "colab": {
     "base_uri": "https://localhost:8080/"
    },
    "id": "mXmcEq7G_4cz",
    "outputId": "7ef6fb85-fb57-4ae4-be4b-c01cc085dc50"
   },
   "outputs": [
    {
     "data": {
      "text/plain": [
       "0.6553333333333333"
      ]
     },
     "execution_count": 42,
     "metadata": {},
     "output_type": "execute_result"
    }
   ],
   "source": [
    "nltk.classify.accuracy(classifier, features[train_count:])"
   ]
  },
  {
   "cell_type": "markdown",
   "metadata": {
    "id": "2Wefc2UgWKIl"
   },
   "source": [
    "**Comparing Additional Classifiers:**"
   ]
  },
  {
   "cell_type": "markdown",
   "metadata": {
    "id": "69yh075JWZGA"
   },
   "source": [
    "Like NLTK, scikit-learn is a third-party Python library, so we shall have to install it with !pip."
   ]
  },
  {
   "cell_type": "code",
   "execution_count": 44,
   "metadata": {
    "colab": {
     "base_uri": "https://localhost:8080/"
    },
    "id": "fWJxH2EzAM3M",
    "outputId": "0f51918b-55d7-499e-b560-58667086bc46"
   },
   "outputs": [
    {
     "name": "stdout",
     "output_type": "stream",
     "text": [
      "Requirement already satisfied: scikit-learn in /usr/local/lib/python3.10/dist-packages (1.2.2)\n",
      "Requirement already satisfied: numpy>=1.17.3 in /usr/local/lib/python3.10/dist-packages (from scikit-learn) (1.23.5)\n",
      "Requirement already satisfied: scipy>=1.3.2 in /usr/local/lib/python3.10/dist-packages (from scikit-learn) (1.10.1)\n",
      "Requirement already satisfied: joblib>=1.1.1 in /usr/local/lib/python3.10/dist-packages (from scikit-learn) (1.3.2)\n",
      "Requirement already satisfied: threadpoolctl>=2.0.0 in /usr/local/lib/python3.10/dist-packages (from scikit-learn) (3.2.0)\n"
     ]
    }
   ],
   "source": [
    "!pip install scikit-learn"
   ]
  },
  {
   "cell_type": "markdown",
   "metadata": {
    "id": "8-f6KLHFWjk4"
   },
   "source": [
    "The following classifiers are a subset of all classifiers available to us. These will work within NLTK for sentiment analysis."
   ]
  },
  {
   "cell_type": "code",
   "execution_count": 45,
   "metadata": {
    "id": "3y2lQOC1AQ4L"
   },
   "outputs": [],
   "source": [
    "from sklearn.naive_bayes import (\n",
    "    BernoulliNB,\n",
    "    ComplementNB,\n",
    "    MultinomialNB,\n",
    ")\n",
    "from sklearn.neighbors import KNeighborsClassifier\n",
    "from sklearn.tree import DecisionTreeClassifier\n",
    "from sklearn.ensemble import RandomForestClassifier, AdaBoostClassifier\n",
    "from sklearn.linear_model import LogisticRegression\n",
    "from sklearn.neural_network import MLPClassifier\n",
    "from sklearn.discriminant_analysis import QuadraticDiscriminantAnalysis"
   ]
  },
  {
   "cell_type": "markdown",
   "metadata": {
    "id": "94qSSVrGWvGs"
   },
   "source": [
    "To aid in accuracy evaluation, it is helpful to have a mapping of classifier names and their instances."
   ]
  },
  {
   "cell_type": "code",
   "execution_count": 46,
   "metadata": {
    "id": "wiBlAZn7AXbr"
   },
   "outputs": [],
   "source": [
    "classifiers = {\n",
    "    \"BernoulliNB\": BernoulliNB(),\n",
    "    \"ComplementNB\": ComplementNB(),\n",
    "    \"MultinomialNB\": MultinomialNB(),\n",
    "    \"KNeighborsClassifier\": KNeighborsClassifier(),\n",
    "    \"DecisionTreeClassifier\": DecisionTreeClassifier(),\n",
    "    \"RandomForestClassifier\": RandomForestClassifier(),\n",
    "    \"LogisticRegression\": LogisticRegression(),\n",
    "    \"MLPClassifier\": MLPClassifier(max_iter=1000),\n",
    "    \"AdaBoostClassifier\": AdaBoostClassifier(),\n",
    "}"
   ]
  },
  {
   "cell_type": "markdown",
   "metadata": {
    "id": "Yj2YUJVjW7Io"
   },
   "source": [
    "**Using scikit-learn Classifiers With NLTK:** We shall also be able to leverage the same features list we built earlier by means of extract_features(). To refresh our memory, here is how we built the features list."
   ]
  },
  {
   "cell_type": "code",
   "execution_count": 47,
   "metadata": {
    "id": "jMXk5g0BAbgj"
   },
   "outputs": [],
   "source": [
    "features = [\n",
    "    (extract_features(nltk.corpus.movie_reviews.raw(review)), \"pos\")\n",
    "    for review in nltk.corpus.movie_reviews.fileids(categories=[\"pos\"])\n",
    "]\n",
    "features.extend([\n",
    "    (extract_features(nltk.corpus.movie_reviews.raw(review)), \"neg\")\n",
    "    for review in nltk.corpus.movie_reviews.fileids(categories=[\"neg\"])\n",
    "])"
   ]
  },
  {
   "cell_type": "markdown",
   "metadata": {
    "id": "4T3ZVKiAXldE"
   },
   "source": [
    "Since the first half of the list contains only positive reviews, begin by shuffling it, then iterate over all classifiers to train and evaluate each one."
   ]
  },
  {
   "cell_type": "code",
   "execution_count": 48,
   "metadata": {
    "colab": {
     "base_uri": "https://localhost:8080/"
    },
    "id": "vQh7Q239AkRE",
    "outputId": "ffa4cf52-4827-4529-e025-301de0cbc550"
   },
   "outputs": [
    {
     "name": "stdout",
     "output_type": "stream",
     "text": [
      "66.20% - BernoulliNB\n",
      "66.20% - ComplementNB\n",
      "66.20% - MultinomialNB\n",
      "68.93% - KNeighborsClassifier\n",
      "63.33% - DecisionTreeClassifier\n",
      "67.60% - RandomForestClassifier\n",
      "71.47% - LogisticRegression\n",
      "71.73% - MLPClassifier\n",
      "71.20% - AdaBoostClassifier\n"
     ]
    }
   ],
   "source": [
    "# Use 1/4 of the set for training\n",
    "train_count = len(features) // 4\n",
    "shuffle(features)\n",
    "for name, sklearn_classifier in classifiers.items():\n",
    "     classifier = nltk.classify.SklearnClassifier(sklearn_classifier)\n",
    "     classifier.train(features[:train_count])\n",
    "     accuracy = nltk.classify.accuracy(classifier, features[train_count:])\n",
    "     print(F\"{accuracy:.2%} - {name}\")"
   ]
  },
  {
   "cell_type": "markdown",
   "metadata": {
    "id": "uV_xs8TBX0wg"
   },
   "source": [
    "Now we have reached 71.73 percent accuracy before even adding a second feature! While this does not mean that the MLPClassifier will continue to be the best one as we engineer new features, having additional classification algorithms at our disposal is clearly advantageous."
   ]
  },
  {
   "cell_type": "markdown",
   "metadata": {
    "id": "1f8kUy0wBLhU"
   },
   "source": [
    "**Conclusion**\n",
    "\n",
    "We are now quite familiar with the features of NTLK that allow us to process text into objects that we can filter and manipulate, which allows us to analyze text data to gain information about its properties. We can also use different classifiers to perform sentiment analysis on our data and gain insights into how our audience is responding to content."
   ]
  }
 ],
 "metadata": {
  "colab": {
   "provenance": []
  },
  "kernelspec": {
   "display_name": "Python 3 (ipykernel)",
   "language": "python",
   "name": "python3"
  },
  "language_info": {
   "codemirror_mode": {
    "name": "ipython",
    "version": 3
   },
   "file_extension": ".py",
   "mimetype": "text/x-python",
   "name": "python",
   "nbconvert_exporter": "python",
   "pygments_lexer": "ipython3",
   "version": "3.11.4"
  }
 },
 "nbformat": 4,
 "nbformat_minor": 1
}
